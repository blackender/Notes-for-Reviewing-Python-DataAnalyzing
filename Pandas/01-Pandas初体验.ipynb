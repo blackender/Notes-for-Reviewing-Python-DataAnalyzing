{
 "cells": [
  {
   "cell_type": "code",
   "execution_count": 1,
   "id": "7fbc8491-5797-4af5-a886-96abd5826849",
   "metadata": {
    "execution": {
     "iopub.execute_input": "2022-04-14T07:10:58.875934Z",
     "iopub.status.busy": "2022-04-14T07:10:58.875441Z",
     "iopub.status.idle": "2022-04-14T07:10:59.797821Z",
     "shell.execute_reply": "2022-04-14T07:10:59.797023Z",
     "shell.execute_reply.started": "2022-04-14T07:10:58.875803Z"
    }
   },
   "outputs": [],
   "source": [
    "# 导入pandas包\n",
    "import pandas as pd"
   ]
  },
  {
   "cell_type": "code",
   "execution_count": 2,
   "id": "79234f60-2c94-42d3-9b13-2f39201e6f22",
   "metadata": {
    "execution": {
     "iopub.execute_input": "2022-04-14T07:13:50.896481Z",
     "iopub.status.busy": "2022-04-14T07:13:50.896230Z",
     "iopub.status.idle": "2022-04-14T07:13:50.909917Z",
     "shell.execute_reply": "2022-04-14T07:13:50.909278Z",
     "shell.execute_reply.started": "2022-04-14T07:13:50.896454Z"
    }
   },
   "outputs": [
    {
     "data": {
      "text/plain": [
       "0    1\n",
       "1    2\n",
       "2    3\n",
       "3    4\n",
       "dtype: int64"
      ]
     },
     "execution_count": 2,
     "metadata": {},
     "output_type": "execute_result"
    }
   ],
   "source": [
    "# 创建Series\n",
    "data = pd.Series([1,2,3,4])\n",
    "data"
   ]
  },
  {
   "cell_type": "code",
   "execution_count": null,
   "id": "188c5fda-477d-4a09-872e-e9d7e6ccc498",
   "metadata": {},
   "outputs": [],
   "source": []
  }
 ],
 "metadata": {
  "kernelspec": {
   "display_name": "Python 3 (ipykernel)",
   "language": "python",
   "name": "python3"
  },
  "language_info": {
   "codemirror_mode": {
    "name": "ipython",
    "version": 3
   },
   "file_extension": ".py",
   "mimetype": "text/x-python",
   "name": "python",
   "nbconvert_exporter": "python",
   "pygments_lexer": "ipython3",
   "version": "3.10.4"
  }
 },
 "nbformat": 4,
 "nbformat_minor": 5
}
