{
 "cells": [
  {
   "cell_type": "markdown",
   "id": "b0c4ee7c-4910-4296-a9a9-5b56e7eca33d",
   "metadata": {
    "tags": []
   },
   "source": [
    "## 作业要求\n",
    "\n",
    "1. 读取“scores.csv”中的数据。\n",
    "2. 计算每个科的平均成绩。\n",
    "3. 绘制所有科目平均成绩的雷达图。"
   ]
  },
  {
   "cell_type": "code",
   "execution_count": null,
   "id": "f5ef8a1d-2479-4f81-be03-1a2139276af2",
   "metadata": {},
   "outputs": [],
   "source": [
    "# 代码练习区"
   ]
  },
  {
   "cell_type": "markdown",
   "id": "64109fae",
   "metadata": {},
   "source": [
    "自己写完后再看[参考代码](23-参考答案.ipynb)"
   ]
  }
 ],
 "metadata": {
  "kernelspec": {
   "display_name": "Python 3 (ipykernel)",
   "language": "python",
   "name": "python3"
  },
  "language_info": {
   "codemirror_mode": {
    "name": "ipython",
    "version": 3
   },
   "file_extension": ".py",
   "mimetype": "text/x-python",
   "name": "python",
   "nbconvert_exporter": "python",
   "pygments_lexer": "ipython3",
   "version": "3.10.5"
  }
 },
 "nbformat": 4,
 "nbformat_minor": 5
}
