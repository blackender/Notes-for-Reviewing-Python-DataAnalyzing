{
 "cells": [
  {
   "cell_type": "markdown",
   "id": "4a25d294-aa1e-4669-a280-ec9a96819a15",
   "metadata": {
    "jp-MarkdownHeadingCollapsed": true,
    "tags": []
   },
   "source": [
    "## 作业要求\n",
    "\n",
    "1. 读取“scores.csv”中的数据绘制成箱线图。\n",
    "2. 同一张图上每个科成绩对应一个箱线。\n",
    "3. 观察所绘制的箱线图，简单分析一下。"
   ]
  },
  {
   "cell_type": "code",
   "execution_count": null,
   "id": "27b4ae06",
   "metadata": {},
   "outputs": [],
   "source": [
    "# 代码练习区"
   ]
  },
  {
   "cell_type": "markdown",
   "id": "01a7e366",
   "metadata": {},
   "source": [
    "自己写完后再看[参考代码](21-参考答案.ipynb)"
   ]
  },
  {
   "cell_type": "markdown",
   "id": "59d68aa4-a52c-4557-a045-ca18af5f01c5",
   "metadata": {},
   "source": [
    "## "
   ]
  }
 ],
 "metadata": {
  "kernelspec": {
   "display_name": "Python 3.8.9 64-bit",
   "language": "python",
   "name": "python3"
  },
  "language_info": {
   "codemirror_mode": {
    "name": "ipython",
    "version": 3
   },
   "file_extension": ".py",
   "mimetype": "text/x-python",
   "name": "python",
   "nbconvert_exporter": "python",
   "pygments_lexer": "ipython3",
   "version": "3.8.9"
  },
  "vscode": {
   "interpreter": {
    "hash": "31f2aee4e71d21fbe5cf8b01ff0e069b9275f58929596ceb00d14d90e3e16cd6"
   }
  }
 },
 "nbformat": 4,
 "nbformat_minor": 5
}
