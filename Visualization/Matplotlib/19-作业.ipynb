{
 "cells": [
  {
   "cell_type": "markdown",
   "id": "4c2ae22f-75d3-47fc-8037-5226dcc15820",
   "metadata": {
    "tags": []
   },
   "source": [
    "## 作业要求\n",
    "\n",
    "1. 将下面的数据绘制成饼图。\n",
    "2. 设置阴影效果\n",
    "3. 将Chrome对应分块从饼图中分离出来，距离设为0.05。\n",
    "4. 设置显示分块占比信息，保留两位小数。\n",
    "5. 占比信息以白色文字显示，分块名以黑色文字显示。\n",
    "6. 将Edge和Safari的占比的字体大小设置为10，其余为12."
   ]
  },
  {
   "cell_type": "code",
   "execution_count": null,
   "id": "2e75c0d7-1644-404b-a1d6-75f69964aa4c",
   "metadata": {},
   "outputs": [],
   "source": [
    "# 代码练习区\n",
    "data = {\n",
    "    \"Chrome\": 0.6098,\n",
    "    \"Internet Explorer\": 0.1218,\n",
    "    \"FireFox\": 0.1147,\n",
    "    \"Edge\": 0.0415,\n",
    "    \"Safari\": 0.0372,\n",
    "    \"其他浏览器\": 0.075\n",
    "}"
   ]
  },
  {
   "cell_type": "markdown",
   "id": "af4be087",
   "metadata": {},
   "source": [
    "自己写完后再看[参考代码](19-参考答案.ipynb)"
   ]
  }
 ],
 "metadata": {
  "kernelspec": {
   "display_name": "Python 3.8.9 64-bit",
   "language": "python",
   "name": "python3"
  },
  "language_info": {
   "codemirror_mode": {
    "name": "ipython",
    "version": 3
   },
   "file_extension": ".py",
   "mimetype": "text/x-python",
   "name": "python",
   "nbconvert_exporter": "python",
   "pygments_lexer": "ipython3",
   "version": "3.8.9"
  },
  "vscode": {
   "interpreter": {
    "hash": "31f2aee4e71d21fbe5cf8b01ff0e069b9275f58929596ceb00d14d90e3e16cd6"
   }
  }
 },
 "nbformat": 4,
 "nbformat_minor": 5
}
