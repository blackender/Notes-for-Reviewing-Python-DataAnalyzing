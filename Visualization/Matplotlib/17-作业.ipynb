{
 "cells": [
  {
   "cell_type": "markdown",
   "id": "83b0ed66-cc0a-4af9-853c-8de42f77394e",
   "metadata": {
    "tags": []
   },
   "source": [
    "## 作业要求\n",
    "\n",
    "1. 分别读取4个城市的二手数据（bj.csv、sh.csv、gz.csv和sz.csv），将将其归档到同一个DataFrame中。\n",
    "2. 计算车辆的使用年份和保值率，并在DataFrame新增对应的字段存储数据。\n",
    "    1. 使用年份=当前时间-购买时间\n",
    "    2. 保值率=二手车价格 / 新车价格\n",
    "3. 绘制使用年份与保值率的散点图，观察并简单分析其分布特征。\n",
    "4. 绘制行驶距离与保值率的散点图，观察并简单分析其分布特征。"
   ]
  },
  {
   "cell_type": "code",
   "execution_count": null,
   "id": "2dede197-9b12-4141-9c0d-1442e28a3027",
   "metadata": {},
   "outputs": [],
   "source": [
    "# 代码练习区"
   ]
  },
  {
   "cell_type": "markdown",
   "id": "4f81af8c",
   "metadata": {},
   "source": [
    "自己写完后再看[参考代码](17-参考答案.ipynb)"
   ]
  }
 ],
 "metadata": {
  "kernelspec": {
   "display_name": "Python 3 (ipykernel)",
   "language": "python",
   "name": "python3"
  },
  "language_info": {
   "codemirror_mode": {
    "name": "ipython",
    "version": 3
   },
   "file_extension": ".py",
   "mimetype": "text/x-python",
   "name": "python",
   "nbconvert_exporter": "python",
   "pygments_lexer": "ipython3",
   "version": "3.10.5"
  }
 },
 "nbformat": 4,
 "nbformat_minor": 5
}
