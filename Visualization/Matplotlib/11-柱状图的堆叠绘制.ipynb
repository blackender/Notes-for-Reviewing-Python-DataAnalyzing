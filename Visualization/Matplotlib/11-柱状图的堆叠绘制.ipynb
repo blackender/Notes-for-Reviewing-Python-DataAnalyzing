{
 "cells": [
  {
   "cell_type": "code",
   "execution_count": 1,
   "id": "3f7a74b4-95ba-4e97-8aab-323ed4e00ec5",
   "metadata": {
    "execution": {
     "iopub.execute_input": "2022-06-15T00:36:11.742431Z",
     "iopub.status.busy": "2022-06-15T00:36:11.742006Z",
     "iopub.status.idle": "2022-06-15T00:36:12.345455Z",
     "shell.execute_reply": "2022-06-15T00:36:12.344810Z",
     "shell.execute_reply.started": "2022-06-15T00:36:11.742358Z"
    },
    "tags": []
   },
   "outputs": [],
   "source": [
    "# 导入包\n",
    "import matplotlib.pyplot as plt\n",
    "import numpy as np"
   ]
  },
  {
   "cell_type": "markdown",
   "id": "007fb16e-465b-4e86-9ca9-635251a3d5ca",
   "metadata": {},
   "source": [
    "Matplotlib没有专门的堆叠绘制api，可以通过plt.bar函数的bottom属性来实现堆叠绘制的效果"
   ]
  },
  {
   "cell_type": "code",
   "execution_count": 2,
   "id": "d0613373-76f2-487d-bed9-85d809884319",
   "metadata": {
    "execution": {
     "iopub.execute_input": "2022-06-15T00:36:12.347456Z",
     "iopub.status.busy": "2022-06-15T00:36:12.347183Z",
     "iopub.status.idle": "2022-06-15T00:36:12.352261Z",
     "shell.execute_reply": "2022-06-15T00:36:12.350764Z",
     "shell.execute_reply.started": "2022-06-15T00:36:12.347439Z"
    }
   },
   "outputs": [],
   "source": [
    "# 创建实验数据\n",
    "men = [20, 35, 32, 36, 23]\n",
    "women = [26, 30, 35, 22, 28]\n",
    "groups = [\"G1\", \"G2\", \"G3\", \"G4\", \"G5\"]"
   ]
  },
  {
   "cell_type": "code",
   "execution_count": 3,
   "id": "338608ef-bf16-45a3-b7cc-8cf52bcf978d",
   "metadata": {
    "execution": {
     "iopub.execute_input": "2022-06-15T00:36:12.354132Z",
     "iopub.status.busy": "2022-06-15T00:36:12.353631Z",
     "iopub.status.idle": "2022-06-15T00:36:12.491047Z",
     "shell.execute_reply": "2022-06-15T00:36:12.490054Z",
     "shell.execute_reply.started": "2022-06-15T00:36:12.354115Z"
    },
    "tags": []
   },
   "outputs": [
    {
     "data": {
      "image/png": "[encoded data removed]",
      "text/plain": [
       "<Figure size 800x400 with 1 Axes>"
      ]
     },
     "metadata": {
      "needs_background": "light"
     },
     "output_type": "display_data"
    }
   ],
   "source": [
    "# 设置画板\n",
    "plt.figure(figsize=(10, 5), dpi=80)\n",
    "# 设置men数据的绘制\n",
    "plt.bar(groups, men, label=\"men\")\n",
    "# 设置women数据的绘制，以men数据为bottomm\n",
    "plt.bar(groups, women, bottom=men,label=\"women\")\n",
    "# 绘制图例\n",
    "plt.legend()\n",
    "# 直接绘图\n",
    "plt.show()"
   ]
  }
 ],
 "metadata": {
  "kernelspec": {
   "display_name": "Python 3 (ipykernel)",
   "language": "python",
   "name": "python3"
  },
  "language_info": {
   "codemirror_mode": {
    "name": "ipython",
    "version": 3
   },
   "file_extension": ".py",
   "mimetype": "text/x-python",
   "name": "python",
   "nbconvert_exporter": "python",
   "pygments_lexer": "ipython3",
   "version": "3.10.4"
  }
 },
 "nbformat": 4,
 "nbformat_minor": 5
}
