{
 "cells": [
  {
   "cell_type": "code",
   "execution_count": 1,
   "id": "3ac58394-401f-45b2-a9db-dd48938a21c9",
   "metadata": {},
   "outputs": [],
   "source": [
    "# 导入包\n",
    "import matplotlib.pyplot as plt\n",
    "import numpy as np\n",
    "from matplotlib import ticker"
   ]
  },
  {
   "cell_type": "markdown",
   "id": "ef35a569-0c72-4748-8f88-5d07f5c8b17b",
   "metadata": {},
   "source": [
    "## Axis对象\n",
    "1. Axis对象是Matplotlib中的坐标轴容器对象（例如，x轴或y轴）\n",
    "2. Axis对象作为容器含有一系列对象：\n",
    "    1. Tick对象（刻度）\n",
    "    2. TickLabel对象（刻度文本）\n",
    "    3. AxisLabel对象（坐标轴文本）"
   ]
  },
  {
   "cell_type": "markdown",
   "id": "854b882b-6019-48a9-b5e5-7c953cb0151e",
   "metadata": {},
   "source": [
    "## 一、设置坐标轴label的位置"
   ]
  },
  {
   "cell_type": "code",
   "execution_count": 2,
   "id": "ced0684d-db47-4a1a-a016-ea882e0c7fcd",
   "metadata": {},
   "outputs": [
    {
     "data": {
      "image/png": "[encoded data removed]",
      "text/plain": [
       "<Figure size 432x288 with 1 Axes>"
      ]
     },
     "metadata": {
      "needs_background": "light"
     },
     "output_type": "display_data"
    }
   ],
   "source": [
    "# 创建画板\n",
    "fig = plt.figure()\n",
    "# 在fig上添加一张子图（Axes对象）\n",
    "ax1 = fig.add_subplot(111)\n",
    "# 设置子图ax1上的绘图数据，绘制柱状图\n",
    "ax1.bar(np.arange(0, 10), np.random.rand(10) * 100, label=\"temperature\")\n",
    "# 设置子图ax1的y轴标签\n",
    "ax1.set_ylabel(\"Temperature\")\n",
    "# 拿到ax1的y轴的axis对象，并设置label的坐标\n",
    "ax1.yaxis.set_label_coords(-0.1, 0.85)"
   ]
  },
  {
   "cell_type": "markdown",
   "id": "cfd57767-6d7b-4da3-9a7f-e8f89bedc6ac",
   "metadata": {},
   "source": [
    "## 二、设置坐标轴上的刻度格式"
   ]
  },
  {
   "cell_type": "code",
   "execution_count": 3,
   "id": "3481151f-b193-45d0-8b49-7586fabd52cd",
   "metadata": {},
   "outputs": [
    {
     "data": {
      "image/png": "[encoded data removed]",
      "text/plain": [
       "<Figure size 432x288 with 1 Axes>"
      ]
     },
     "metadata": {
      "needs_background": "light"
     },
     "output_type": "display_data"
    }
   ],
   "source": [
    "# 创建画板\n",
    "fig = plt.figure()\n",
    "# 在fig上添加一张子图（Axes对象）\n",
    "ax1 = fig.add_subplot(111)\n",
    "# 设置子图ax1上的绘图数据，绘制柱状图\n",
    "ax1.bar(np.arange(0, 10), np.random.rand(10) * 10, label=\"temperature\")\n",
    "# 设置子图ax1的y轴标签\n",
    "ax1.set_ylabel(\"Temperature\")\n",
    "# 定义刻度格式\n",
    "formatter = ticker.FormatStrFormatter(\"$%.2f\")\n",
    "# 拿到ax1的y轴的axis对象，并设置主格式为刚才定义的formatter\n",
    "ax1.yaxis.set_major_formatter(formatter)"
   ]
  },
  {
   "cell_type": "markdown",
   "id": "40ccc38a-02b7-4fc6-bcd0-f02b6cbca0ba",
   "metadata": {},
   "source": [
    "## 三、设置坐标轴的属性"
   ]
  },
  {
   "cell_type": "code",
   "execution_count": 4,
   "id": "4b13d307-f54f-43c6-a43a-abc373dab4cf",
   "metadata": {},
   "outputs": [
    {
     "data": {
      "image/png": "[encoded data removed]",
      "text/plain": [
       "<Figure size 432x288 with 1 Axes>"
      ]
     },
     "metadata": {},
     "output_type": "display_data"
    }
   ],
   "source": [
    "# 创建画板\n",
    "fig = plt.figure()\n",
    "# 在fig上添加一张子图（Axes对象）\n",
    "ax1 = fig.add_subplot(111)\n",
    "# 设置子图ax1上的绘图数据，绘制柱状图\n",
    "ax1.bar(np.arange(0, 10), np.random.rand(10) * 10, label=\"temperature\")\n",
    "# 设置子图ax1的y轴标签\n",
    "ax1.set_ylabel(\"Temperature\")\n",
    "\n",
    "# 拿到ax1的x轴的axis对象，获取上面所有刻度文本对象\n",
    "xTickLabels = ax1.xaxis.get_ticklabels()\n",
    "# 遍历设置每个刻度文本的属性\n",
    "for label in xTickLabels:\n",
    "    label.set_color(\"orange\")  # 设置文本颜色\n",
    "    label.set_rotation(30)  # 设置文本旋转角度\n",
    "    label.set_fontsize(14)  # 设置文本大小\n",
    "\n",
    "# 拿到ax1的y轴的axis对象，获取上面所有刻度线对象\n",
    "yTickLines = ax1.yaxis.get_ticklines()\n",
    "for line in yTickLines:\n",
    "    line.set_c(\"orange\")  # 设置刻度线颜色\n",
    "    line.set_markeredgewidth(6)  # 设置刻度线宽度\n",
    "    line.set_markersize(10)  # 设置刻度线长度"
   ]
  }
 ],
 "metadata": {
  "kernelspec": {
   "display_name": "Python 3 (ipykernel)",
   "language": "python",
   "name": "python3"
  },
  "language_info": {
   "codemirror_mode": {
    "name": "ipython",
    "version": 3
   },
   "file_extension": ".py",
   "mimetype": "text/x-python",
   "name": "python",
   "nbconvert_exporter": "python",
   "pygments_lexer": "ipython3",
   "version": "3.10.5"
  }
 },
 "nbformat": 4,
 "nbformat_minor": 5
}
