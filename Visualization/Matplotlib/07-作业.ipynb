{
 "cells": [
  {
   "cell_type": "code",
   "execution_count": 1,
   "id": "14b3db1e-e772-473e-83b0-05128f276269",
   "metadata": {
    "execution": {
     "iopub.execute_input": "2022-06-13T05:49:38.548350Z",
     "iopub.status.busy": "2022-06-13T05:49:38.547897Z",
     "iopub.status.idle": "2022-06-13T05:49:39.211584Z",
     "shell.execute_reply": "2022-06-13T05:49:39.210520Z",
     "shell.execute_reply.started": "2022-06-13T05:49:38.548266Z"
    }
   },
   "outputs": [],
   "source": [
    "# 导入包\n",
    "import matplotlib.pyplot as plt\n",
    "import numpy as np"
   ]
  },
  {
   "cell_type": "markdown",
   "id": "b10ffa0e-4f06-41cc-ac5c-494e8cca8de4",
   "metadata": {},
   "source": [
    "## 作业要求\n",
    "\n",
    "1. 读取长沙市某年5月份的气温数据（changsha.csv），按照时间顺序绘制成折线图\n",
    "2. \"highest\"为当天最高气温,\"lowest\"为当天最低气温\n",
    "3. 使用圆点表示数据点\n",
    "4. x轴是是时间，y轴是温度，要求图中有具体刻度\n",
    "5. x轴的标题是\"时间（天）\"，y轴的标题是”气温（摄氏度）“\n",
    "6. 图标题是”长沙5月份气温走势“图"
   ]
  },
  {
   "cell_type": "code",
   "execution_count": null,
   "id": "5ab006dc-60f5-49f1-a5cc-37876ee328a8",
   "metadata": {},
   "outputs": [],
   "source": []
  }
 ],
 "metadata": {
  "kernelspec": {
   "display_name": "Python 3 (ipykernel)",
   "language": "python",
   "name": "python3"
  },
  "language_info": {
   "codemirror_mode": {
    "name": "ipython",
    "version": 3
   },
   "file_extension": ".py",
   "mimetype": "text/x-python",
   "name": "python",
   "nbconvert_exporter": "python",
   "pygments_lexer": "ipython3",
   "version": "3.10.4"
  }
 },
 "nbformat": 4,
 "nbformat_minor": 5
}
