{
 "cells": [
  {
   "cell_type": "markdown",
   "id": "70149414-e377-4c9e-87d2-2b94a7f5e15d",
   "metadata": {
    "tags": []
   },
   "source": [
    "## 作业要求\n",
    "\n",
    "1. 读取scores.csv，绘制直方图。\n",
    "2. 读取csv文件之后生成DataFrame对象。\n",
    "3. 绘制其中地理成绩(“geo”)的直方图。\n",
    "4. 标记x轴的坐标。\n",
    "5. 每个柱面上方显示处于该区间内成绩数量。\n",
    "6. 图标题是”x班地理成绩直方图“"
   ]
  },
  {
   "cell_type": "code",
   "execution_count": null,
   "id": "a571b3d6-8a9d-44ac-bb76-828547204467",
   "metadata": {},
   "outputs": [],
   "source": [
    "# 代码练习区"
   ]
  },
  {
   "cell_type": "markdown",
   "id": "d914afd1",
   "metadata": {},
   "source": [
    "自己写完后再看[参考代码](14-参考答案.ipynb)"
   ]
  }
 ],
 "metadata": {
  "kernelspec": {
   "display_name": "Python 3 (ipykernel)",
   "language": "python",
   "name": "python3"
  },
  "language_info": {
   "codemirror_mode": {
    "name": "ipython",
    "version": 3
   },
   "file_extension": ".py",
   "mimetype": "text/x-python",
   "name": "python",
   "nbconvert_exporter": "python",
   "pygments_lexer": "ipython3",
   "version": "3.10.5"
  }
 },
 "nbformat": 4,
 "nbformat_minor": 5
}
