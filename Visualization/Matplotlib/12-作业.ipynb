{
 "cells": [
  {
   "cell_type": "markdown",
   "id": "39ff31b1-d6a7-434b-b083-f954cb023a48",
   "metadata": {},
   "source": [
    "## 作业要求\n",
    "\n",
    "1. 读取三类学校（普通本科、中等职业教育、普通高中）2014-2018年间的招生数据（enrollment.csv），绘制柱状图。\n",
    "2. x轴是年份，y轴是当年的招生人数(万人)。\n",
    "3. 按年份进行分组绘制，同一年份的放在一个组。\n",
    "4. 要求绘制图例，图例横向排列（提示：使用legend的ncol参数，具体用法自行查Matplotlib官网）\n",
    "5. 图标题是”2014-2018普通本科、中等职业教育、普通高中招生人数“"
   ]
  },
  {
   "cell_type": "code",
   "execution_count": null,
   "id": "5bdf1c3e-4cc2-4029-b46f-2f9b6ad1edb9",
   "metadata": {},
   "outputs": [],
   "source": [
    "# 代码练习区"
   ]
  },
  {
   "cell_type": "markdown",
   "id": "28179dec-c417-4723-b8e9-1344704bce43",
   "metadata": {},
   "source": [
    "自己写完后再看[参考代码](12-参考答案.ipynb)"
   ]
  }
 ],
 "metadata": {
  "kernelspec": {
   "display_name": "Python 3 (ipykernel)",
   "language": "python",
   "name": "python3"
  },
  "language_info": {
   "codemirror_mode": {
    "name": "ipython",
    "version": 3
   },
   "file_extension": ".py",
   "mimetype": "text/x-python",
   "name": "python",
   "nbconvert_exporter": "python",
   "pygments_lexer": "ipython3",
   "version": "3.10.4"
  }
 },
 "nbformat": 4,
 "nbformat_minor": 5
}
