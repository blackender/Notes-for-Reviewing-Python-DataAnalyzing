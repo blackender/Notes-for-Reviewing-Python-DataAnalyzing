{
 "cells": [
  {
   "cell_type": "markdown",
   "id": "5151e9d7-1627-4e78-84e8-d4b8fe45c5ba",
   "metadata": {},
   "source": [
    "# 作业"
   ]
  },
  {
   "cell_type": "markdown",
   "id": "908a2454-64e2-4e67-9e51-03905f0f6a78",
   "metadata": {},
   "source": [
    "## 一、根据提供的一组温度数据，按时间和温度绘制折线图。\n",
    "\n",
    "数据为：\n",
    "|20时|23时|2时|5时|\n",
    "|-|-|-|-|\n",
    "|29|27|23|22|"
   ]
  },
  {
   "cell_type": "code",
   "execution_count": null,
   "id": "dea3db30-e47a-43a1-8496-a37a2361d0e5",
   "metadata": {},
   "outputs": [],
   "source": []
  },
  {
   "cell_type": "markdown",
   "id": "e8e28c81-f114-41b2-8350-bb8b58760e40",
   "metadata": {},
   "source": [
    "## 二、读取”法人人数年度数据.csv“，根据时间绘制条形图。"
   ]
  },
  {
   "cell_type": "code",
   "execution_count": null,
   "id": "11bd3368-1ccd-4a7a-b8ab-f87a05af3c61",
   "metadata": {},
   "outputs": [],
   "source": []
  },
  {
   "cell_type": "markdown",
   "id": "d3083eb0-4a26-44ee-9932-e764ed376962",
   "metadata": {},
   "source": [
    "## 三、读取”lianjia.csv“，按照以下要求绘制图：\n",
    "1. 使用一个Figure绘制3张图：\n",
    "    1. 绘制条形图，x轴数据为行政区（Region），y轴数据为各个区平均每平米的单价。\n",
    "    2. 绘制箱线图，x轴数据为行政区（Region），y轴数据为每平米的单价。\n",
    "    3. 绘制swarm图，x轴数据为行政区（Region），y轴数据为每平米的单价。\n",
    "2. 使用FacetGrid绘制尺寸与单元的关系图，需要区分是否有电梯。"
   ]
  }
 ],
 "metadata": {
  "kernelspec": {
   "display_name": "Python 3 (ipykernel)",
   "language": "python",
   "name": "python3"
  },
  "language_info": {
   "codemirror_mode": {
    "name": "ipython",
    "version": 3
   },
   "file_extension": ".py",
   "mimetype": "text/x-python",
   "name": "python",
   "nbconvert_exporter": "python",
   "pygments_lexer": "ipython3",
   "version": "3.11.4"
  }
 },
 "nbformat": 4,
 "nbformat_minor": 5
}
